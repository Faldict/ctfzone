{
 "cells": [
  {
   "cell_type": "markdown",
   "metadata": {},
   "source": [
    "# oneTimePad.py\n",
    "\n",
    "Here is the source code.\n",
    "\n",
    "```\n",
    "#!/usr/bin/env python\n",
    "# coding=utf-8\n",
    "\n",
    "from os import urandom\n",
    "\n",
    "def process(m, k):\n",
    "    tmp = m ^ k\n",
    "    res = 0\n",
    "    for i in bin(tmp)[2:]:\n",
    "        res = res << 1;\n",
    "        if (int(i)):\n",
    "            res = res ^ tmp\n",
    "        if (res >> 256):\n",
    "            res = res ^ P\n",
    "    return res\n",
    "\n",
    "def keygen(seed):\n",
    "    key = str2num(urandom(32))\n",
    "    while True:\n",
    "        yield key\n",
    "        key = process(key, seed)\n",
    "\n",
    "def str2num(s):\n",
    "    return int(s.encode('hex'), 16)\n",
    "\n",
    "P = 0x10000000000000000000000000000000000000000000000000000000000000425\n",
    "\n",
    "true_secret = open('flag.txt').read()[:32]\n",
    "assert len(true_secret) == 32\n",
    "print('flag{%s}' % true_secret)\n",
    "fake_secret1 = \"I_am_not_a_secret_so_you_know_me\"\n",
    "fake_secret2 = \"feeddeadbeefcafefeeddeadbeefcafe\"\n",
    "secret = str2num(urandom(32))\n",
    "\n",
    "generator = keygen(secret)\n",
    "ctxt1 = hex(str2num(true_secret) ^ generator.next())[2:-1]\n",
    "ctxt2 = hex(str2num(fake_secret1) ^ generator.next())[2:-1]\n",
    "ctxt3 = hex(str2num(fake_secret2) ^ generator.next())[2:-1]\n",
    "f = open('ciphertext', 'w')\n",
    "f.write(ctxt1+'\\n')\n",
    "f.write(ctxt2+'\\n')\n",
    "f.write(ctxt3+'\\n')\n",
    "f.close()\n",
    "```"
   ]
  },
  {
   "cell_type": "markdown",
   "metadata": {},
   "source": [
    "As you see, the flag is `true_sectet`. But the `flag.txt` file lost and we must use `ciphertext` to reverse inference the flag.\n",
    "\n",
    "At first, let's see `str2num`. It encodes a string in form of `hex` and transfer to an integer.\n",
    "\n",
    "```\n",
    "str2num(s) = int(s.encode('hex'), 16)\n",
    "```\n",
    "\n",
    "So we can write the reverse function:\n",
    "\n",
    "```\n",
    "num2str(n) = str(hex(n)).decode('hex')\n",
    "```"
   ]
  },
  {
   "cell_type": "markdown",
   "metadata": {},
   "source": [
    "But the result of `hex()` has the format `r/^0x[0-9]+L$/`. So we should strip the head and tail."
   ]
  },
  {
   "cell_type": "code",
   "execution_count": 19,
   "metadata": {
    "collapsed": false
   },
   "outputs": [],
   "source": [
    "def num2str(n):\n",
    "    return str(hex(n))[2:-1].decode('hex')\n",
    "def str2num(s):\n",
    "    return int(s.encode('hex'), 16)"
   ]
  },
  {
   "cell_type": "markdown",
   "metadata": {},
   "source": [
    "Now we concerned about the process of ctxt:\n",
    "\n",
    "```\n",
    "ctxt = hex(str2num(secret) ^ generator)[2:-1]\n",
    "```\n",
    "Notice the property of `XOR`, we can reverse the secret:\n",
    "```\n",
    "secret = int(ctxt, 16) ^ generator \n",
    "```"
   ]
  },
  {
   "cell_type": "code",
   "execution_count": 20,
   "metadata": {
    "collapsed": true
   },
   "outputs": [],
   "source": [
    "def crypto(ctxt, secret):\n",
    "    return int(ctxt, 16) ^ str2num(secret)"
   ]
  },
  {
   "cell_type": "markdown",
   "metadata": {},
   "source": [
    "Now we can get the `ctxt3` and `ctxt2` according to `fake_secret`, and we will get the generator of `secret` by these two generator."
   ]
  },
  {
   "cell_type": "code",
   "execution_count": 21,
   "metadata": {
    "collapsed": false
   },
   "outputs": [
    {
     "ename": "LookupError",
     "evalue": "'hex' is not a text encoding; use codecs.encode() to handle arbitrary codecs",
     "output_type": "error",
     "traceback": [
      "\u001b[0;31m---------------------------------------------------------------------------\u001b[0m",
      "\u001b[0;31mLookupError\u001b[0m                               Traceback (most recent call last)",
      "\u001b[0;32m<ipython-input-21-ef7e7c377e8e>\u001b[0m in \u001b[0;36m<module>\u001b[0;34m()\u001b[0m\n\u001b[1;32m      3\u001b[0m \u001b[0mctxt2\u001b[0m \u001b[0;34m=\u001b[0m \u001b[0;34m\"630eb4dce274d29a16f86940f2f35253477665949170ed9e8c9e828794b5543c\"\u001b[0m\u001b[0;34m\u001b[0m\u001b[0m\n\u001b[1;32m      4\u001b[0m \u001b[0mctxt3\u001b[0m \u001b[0;34m=\u001b[0m \u001b[0;34m\"e913db07cbe4f433c7cdeaac549757d23651ebdccf69d7fbdfd5dc2829334d1b\"\u001b[0m\u001b[0;34m\u001b[0m\u001b[0m\n\u001b[0;32m----> 5\u001b[0;31m \u001b[0mgenerator2\u001b[0m \u001b[0;34m=\u001b[0m \u001b[0mcrypto\u001b[0m\u001b[0;34m(\u001b[0m\u001b[0mctxt2\u001b[0m\u001b[0;34m,\u001b[0m \u001b[0mfake_secret1\u001b[0m\u001b[0;34m)\u001b[0m\u001b[0;34m\u001b[0m\u001b[0m\n\u001b[0m\u001b[1;32m      6\u001b[0m \u001b[0mgenerator3\u001b[0m \u001b[0;34m=\u001b[0m \u001b[0mcrypto\u001b[0m\u001b[0;34m(\u001b[0m\u001b[0mctxt3\u001b[0m\u001b[0;34m,\u001b[0m \u001b[0mfake_secret2\u001b[0m\u001b[0;34m)\u001b[0m\u001b[0;34m\u001b[0m\u001b[0m\n",
      "\u001b[0;32m<ipython-input-20-e41ebc18199d>\u001b[0m in \u001b[0;36mcrypto\u001b[0;34m(ctxt, secret)\u001b[0m\n\u001b[1;32m      1\u001b[0m \u001b[0;32mdef\u001b[0m \u001b[0mcrypto\u001b[0m\u001b[0;34m(\u001b[0m\u001b[0mctxt\u001b[0m\u001b[0;34m,\u001b[0m \u001b[0msecret\u001b[0m\u001b[0;34m)\u001b[0m\u001b[0;34m:\u001b[0m\u001b[0;34m\u001b[0m\u001b[0m\n\u001b[0;32m----> 2\u001b[0;31m     \u001b[0;32mreturn\u001b[0m \u001b[0mint\u001b[0m\u001b[0;34m(\u001b[0m\u001b[0mctxt\u001b[0m\u001b[0;34m,\u001b[0m \u001b[0;36m16\u001b[0m\u001b[0;34m)\u001b[0m \u001b[0;34m^\u001b[0m \u001b[0mstr2num\u001b[0m\u001b[0;34m(\u001b[0m\u001b[0msecret\u001b[0m\u001b[0;34m)\u001b[0m\u001b[0;34m\u001b[0m\u001b[0m\n\u001b[0m",
      "\u001b[0;32m<ipython-input-19-7288789900c3>\u001b[0m in \u001b[0;36mstr2num\u001b[0;34m(s)\u001b[0m\n\u001b[1;32m      2\u001b[0m     \u001b[0;32mreturn\u001b[0m \u001b[0mstr\u001b[0m\u001b[0;34m(\u001b[0m\u001b[0mhex\u001b[0m\u001b[0;34m(\u001b[0m\u001b[0mn\u001b[0m\u001b[0;34m)\u001b[0m\u001b[0;34m)\u001b[0m\u001b[0;34m[\u001b[0m\u001b[0;36m2\u001b[0m\u001b[0;34m:\u001b[0m\u001b[0;34m-\u001b[0m\u001b[0;36m1\u001b[0m\u001b[0;34m]\u001b[0m\u001b[0;34m.\u001b[0m\u001b[0mdecode\u001b[0m\u001b[0;34m(\u001b[0m\u001b[0;34m'hex'\u001b[0m\u001b[0;34m)\u001b[0m\u001b[0;34m\u001b[0m\u001b[0m\n\u001b[1;32m      3\u001b[0m \u001b[0;32mdef\u001b[0m \u001b[0mstr2num\u001b[0m\u001b[0;34m(\u001b[0m\u001b[0ms\u001b[0m\u001b[0;34m)\u001b[0m\u001b[0;34m:\u001b[0m\u001b[0;34m\u001b[0m\u001b[0m\n\u001b[0;32m----> 4\u001b[0;31m     \u001b[0;32mreturn\u001b[0m \u001b[0mint\u001b[0m\u001b[0;34m(\u001b[0m\u001b[0ms\u001b[0m\u001b[0;34m.\u001b[0m\u001b[0mencode\u001b[0m\u001b[0;34m(\u001b[0m\u001b[0;34m'hex'\u001b[0m\u001b[0;34m)\u001b[0m\u001b[0;34m,\u001b[0m \u001b[0;36m16\u001b[0m\u001b[0;34m)\u001b[0m\u001b[0;34m\u001b[0m\u001b[0m\n\u001b[0m",
      "\u001b[0;31mLookupError\u001b[0m: 'hex' is not a text encoding; use codecs.encode() to handle arbitrary codecs"
     ]
    }
   ],
   "source": [
    "fake_secret1 = \"I_am_not_a_secret_so_you_know_me\"\n",
    "fake_secret2 = \"feeddeadbeefcafefeeddeadbeefcafe\"\n",
    "ctxt2 = \"630eb4dce274d29a16f86940f2f35253477665949170ed9e8c9e828794b5543c\"\n",
    "ctxt3 = \"e913db07cbe4f433c7cdeaac549757d23651ebdccf69d7fbdfd5dc2829334d1b\"\n",
    "generator2 = crypto(ctxt2, fake_secret1)\n",
    "generator3 = crypto(ctxt3, fake_secret2)"
   ]
  },
  {
   "cell_type": "markdown",
   "metadata": {},
   "source": [
    "Finally, we just need to concentrate on the `process()`!  \n",
    "We can get the `seed` by two generators, and then get the real generator by the `seed` and the `generator2`!"
   ]
  },
  {
   "cell_type": "code",
   "execution_count": null,
   "metadata": {
    "collapsed": true
   },
   "outputs": [],
   "source": [
    "P = 0x10000000000000000000000000000000000000000000000000000000000000425L\n",
    "def getSeed(g1, g2):\n",
    "    i = 0\n",
    "    while g2 != 0:\n",
    "        if ((g2 ^ P) >> 256):\n",
    "            g2 = g2 ^ 256\n",
    "    # TODO"
   ]
  }
 ],
 "metadata": {
  "kernelspec": {
   "display_name": "Python 3",
   "language": "python",
   "name": "python3"
  },
  "language_info": {
   "codemirror_mode": {
    "name": "ipython",
    "version": 3
   },
   "file_extension": ".py",
   "mimetype": "text/x-python",
   "name": "python",
   "nbconvert_exporter": "python",
   "pygments_lexer": "ipython3",
   "version": "3.5.2+"
  }
 },
 "nbformat": 4,
 "nbformat_minor": 2
}
